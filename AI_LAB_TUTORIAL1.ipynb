{
  "nbformat": 4,
  "nbformat_minor": 0,
  "metadata": {
    "colab": {
      "name": "AI LAB-TUTORIAL1.ipynb",
      "provenance": [],
      "collapsed_sections": [],
      "authorship_tag": "ABX9TyOhEcT/CuPeCjrzdAVOFgic",
      "include_colab_link": true
    },
    "kernelspec": {
      "name": "python3",
      "display_name": "Python 3"
    },
    "language_info": {
      "name": "python"
    }
  },
  "cells": [
    {
      "cell_type": "markdown",
      "metadata": {
        "id": "view-in-github",
        "colab_type": "text"
      },
      "source": [
        "<a href=\"https://colab.research.google.com/github/raghavshah81/AI-LAB/blob/main/AI_LAB_TUTORIAL1.ipynb\" target=\"_parent\"><img src=\"https://colab.research.google.com/assets/colab-badge.svg\" alt=\"Open In Colab\"/></a>"
      ]
    },
    {
      "cell_type": "markdown",
      "source": [
        "Tutorial:1(i)-->Write a python program to implement multiplication table of given number"
      ],
      "metadata": {
        "id": "thtcc4qgkET3"
      }
    },
    {
      "cell_type": "code",
      "execution_count": 10,
      "metadata": {
        "colab": {
          "base_uri": "https://localhost:8080/"
        },
        "id": "4nA3PDnUgoKA",
        "outputId": "1116cc26-512a-40c4-9a93-bbe17737d45c"
      },
      "outputs": [
        {
          "output_type": "stream",
          "name": "stdout",
          "text": [
            "Enter the number of table: 10\n",
            "Enter the range10\n",
            "The Multiplication Table of:  10\n",
            "10 x 1 = 10\n",
            "10 x 2 = 20\n",
            "10 x 3 = 30\n",
            "10 x 4 = 40\n",
            "10 x 5 = 50\n",
            "10 x 6 = 60\n",
            "10 x 7 = 70\n",
            "10 x 8 = 80\n",
            "10 x 9 = 90\n",
            "10 x 10 = 100\n"
          ]
        }
      ],
      "source": [
        "number = int(input (\"Enter the number of table: \"))   \n",
        "number2 = int(input(\"Enter the range\"))  \n",
        "print (\"The Multiplication Table of: \", number)    \n",
        "for count in range(1, number2+1):      \n",
        "   print (number, 'x', count, '=', number * count)       \n"
      ]
    },
    {
      "cell_type": "markdown",
      "source": [
        "Tutorial1(ii)-->Write a python program to check whether given number is prime or not"
      ],
      "metadata": {
        "id": "vRa50UV-ju2D"
      }
    },
    {
      "cell_type": "code",
      "source": [
        "# Python program to check if\n",
        "# given number is prime or not\n",
        "\n",
        "num = 4\n",
        "if num > 1:\n",
        "\tfor i in range(2, int(num/2)+1):\n",
        "\t\tif (num % i) == 0:\n",
        "\t\t\tprint(num, \"is not a prime number\")\n",
        "\t\t\tbreak\n",
        "\telse:\n",
        "\t\tprint(num, \"is a prime number\")\n",
        "\n",
        "else:\n",
        "\tprint(num, \"is not a prime number\")\n",
        "\n"
      ],
      "metadata": {
        "colab": {
          "base_uri": "https://localhost:8080/"
        },
        "id": "PiuV-xZtj354",
        "outputId": "16794e0a-4a01-462c-f708-c5a833a7a511"
      },
      "execution_count": 15,
      "outputs": [
        {
          "output_type": "stream",
          "name": "stdout",
          "text": [
            "4 is not a prime number\n"
          ]
        }
      ]
    },
    {
      "cell_type": "markdown",
      "source": [
        "Tutorial1(iii):Write a python program to find the factorial of given number"
      ],
      "metadata": {
        "id": "_dbHpUw9lqqc"
      }
    },
    {
      "cell_type": "code",
      "source": [
        "num = int(input(\"Enter a number: \"))    \n",
        "factorial = 1    \n",
        "if num < 0:    \n",
        "   print(\" Factorial does not exist for negative numbers\")    \n",
        "elif num == 0:    \n",
        "   print(\"The factorial of 0 is 1\")    \n",
        "else:    \n",
        "   for i in range(1,num + 1):    \n",
        "       factorial = factorial*i    \n",
        "   print(\"The factorial of\",num,\"is\",factorial)    "
      ],
      "metadata": {
        "colab": {
          "base_uri": "https://localhost:8080/"
        },
        "id": "B-GGbfC_l6ZB",
        "outputId": "866eb6d2-8450-42b2-ea6d-ea2fe73e7fcf"
      },
      "execution_count": 18,
      "outputs": [
        {
          "output_type": "stream",
          "name": "stdout",
          "text": [
            "Enter a number: 50\n",
            "The factorial of 50 is 30414093201713378043612608166064768844377641568960512000000000000\n"
          ]
        }
      ]
    },
    {
      "cell_type": "markdown",
      "source": [
        "Tutorial:2-->Write a python program to implement simple chatbot(minimum 10 question and answers)\n"
      ],
      "metadata": {
        "id": "ta84qB2km3gf"
      }
    },
    {
      "cell_type": "code",
      "source": [
        ""
      ],
      "metadata": {
        "id": "SQquS3mxnLM8"
      },
      "execution_count": null,
      "outputs": []
    }
  ]
}